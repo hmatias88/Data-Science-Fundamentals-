{
 "cells": [
  {
   "attachments": {},
   "cell_type": "markdown",
   "metadata": {},
   "source": [
    "# Data visualisation task "
   ]
  },
  {
   "attachments": {},
   "cell_type": "markdown",
   "metadata": {},
   "source": [
    "**Additional information**  \n",
    "[Cars93 metadata](https://jse.amstat.org/v1n1/datasets.lock.html) "
   ]
  },
  {
   "cell_type": "code",
   "execution_count": 1,
   "metadata": {},
   "outputs": [],
   "source": [
    "# Import libraries\n",
    "\n",
    "import pandas as pd\n",
    "import seaborn as sns\n",
    "import numpy as np\n",
    "import matplotlib.pyplot as plt"
   ]
  },
  {
   "cell_type": "code",
   "execution_count": 2,
   "metadata": {},
   "outputs": [
    {
     "data": {
      "text/plain": [
       "Index(['Manufacturer', 'Model', 'Type', 'Min.Price', 'Price', 'Max.Price',\n",
       "       'MPG.city', 'MPG.highway', 'AirBags', 'DriveTrain', 'Cylinders',\n",
       "       'EngineSize', 'Horsepower', 'RPM', 'Rev.per.mile', 'Man.trans.avail',\n",
       "       'Fuel.tank.capacity', 'Passengers', 'Length', 'Wheelbase', 'Width',\n",
       "       'Turn.circle', 'Rear.seat.room', 'Luggage.room', 'Weight', 'Origin',\n",
       "       'Make'],\n",
       "      dtype='object')"
      ]
     },
     "execution_count": 2,
     "metadata": {},
     "output_type": "execute_result"
    }
   ],
   "source": [
    "# Load data\n",
    "car_data = pd.read_csv('Cars93.csv', index_col = 0, keep_default_na=False) \n",
    "\n",
    "\n",
    "#  Determining the various columns in the dataset\n",
    "car_data.columns\n"
   ]
  },
  {
   "cell_type": "code",
   "execution_count": 27,
   "metadata": {},
   "outputs": [
    {
     "data": {
      "text/plain": [
       "array(['Acura', 'Audi', 'BMW', 'Buick', 'Cadillac', 'Chevrolet',\n",
       "       'Chrylser', 'Chrysler', 'Dodge', 'Eagle', 'Ford', 'Geo', 'Honda',\n",
       "       'Hyundai', 'Infiniti', 'Lexus', 'Lincoln', 'Mazda',\n",
       "       'Mercedes-Benz', 'Mercury', 'Mitsubishi', 'Nissan', 'Oldsmobile',\n",
       "       'Plymouth', 'Pontiac', 'Saab', 'Saturn', 'Subaru', 'Suzuki',\n",
       "       'Toyota', 'Volkswagen', 'Volvo'], dtype=object)"
      ]
     },
     "execution_count": 27,
     "metadata": {},
     "output_type": "execute_result"
    }
   ],
   "source": [
    "# Determining the unique manufacturer brands in the dataset.\n",
    "car_data['Manufacturer'].unique()"
   ]
  },
  {
   "cell_type": "code",
   "execution_count": 48,
   "metadata": {},
   "outputs": [
    {
     "data": {
      "text/html": [
       "<div>\n",
       "<style scoped>\n",
       "    .dataframe tbody tr th:only-of-type {\n",
       "        vertical-align: middle;\n",
       "    }\n",
       "\n",
       "    .dataframe tbody tr th {\n",
       "        vertical-align: top;\n",
       "    }\n",
       "\n",
       "    .dataframe thead th {\n",
       "        text-align: right;\n",
       "    }\n",
       "</style>\n",
       "<table border=\"1\" class=\"dataframe\">\n",
       "  <thead>\n",
       "    <tr style=\"text-align: right;\">\n",
       "      <th></th>\n",
       "      <th>Manufacturer</th>\n",
       "      <th>Model</th>\n",
       "      <th>Type</th>\n",
       "      <th>Min.Price</th>\n",
       "      <th>Price</th>\n",
       "      <th>Max.Price</th>\n",
       "      <th>MPG.city</th>\n",
       "      <th>MPG.highway</th>\n",
       "      <th>AirBags</th>\n",
       "      <th>DriveTrain</th>\n",
       "      <th>...</th>\n",
       "      <th>Passengers</th>\n",
       "      <th>Length</th>\n",
       "      <th>Wheelbase</th>\n",
       "      <th>Width</th>\n",
       "      <th>Turn.circle</th>\n",
       "      <th>Rear.seat.room</th>\n",
       "      <th>Luggage.room</th>\n",
       "      <th>Weight</th>\n",
       "      <th>Origin</th>\n",
       "      <th>Make</th>\n",
       "    </tr>\n",
       "  </thead>\n",
       "  <tbody>\n",
       "    <tr>\n",
       "      <th>83</th>\n",
       "      <td>Suzuki</td>\n",
       "      <td>Swift</td>\n",
       "      <td>Small</td>\n",
       "      <td>7.3</td>\n",
       "      <td>8.6</td>\n",
       "      <td>10.0</td>\n",
       "      <td>39</td>\n",
       "      <td>43</td>\n",
       "      <td>None</td>\n",
       "      <td>Front</td>\n",
       "      <td>...</td>\n",
       "      <td>4</td>\n",
       "      <td>161</td>\n",
       "      <td>93</td>\n",
       "      <td>63</td>\n",
       "      <td>34</td>\n",
       "      <td>27.5</td>\n",
       "      <td>10</td>\n",
       "      <td>1965</td>\n",
       "      <td>non-USA</td>\n",
       "      <td>Suzuki Swift</td>\n",
       "    </tr>\n",
       "  </tbody>\n",
       "</table>\n",
       "<p>1 rows × 27 columns</p>\n",
       "</div>"
      ],
      "text/plain": [
       "   Manufacturer  Model   Type  Min.Price  Price  Max.Price  MPG.city  \\\n",
       "83       Suzuki  Swift  Small        7.3    8.6       10.0        39   \n",
       "\n",
       "    MPG.highway AirBags DriveTrain  ... Passengers  Length  Wheelbase  Width  \\\n",
       "83           43    None      Front  ...          4     161         93     63   \n",
       "\n",
       "    Turn.circle Rear.seat.room  Luggage.room  Weight   Origin          Make  \n",
       "83           34           27.5            10    1965  non-USA  Suzuki Swift  \n",
       "\n",
       "[1 rows x 27 columns]"
      ]
     },
     "execution_count": 48,
     "metadata": {},
     "output_type": "execute_result"
    }
   ],
   "source": [
    "car_data[(car_data[\"Manufacturer\"]==\"Suzuki\")]"
   ]
  },
  {
   "cell_type": "code",
   "execution_count": 41,
   "metadata": {},
   "outputs": [
    {
     "data": {
      "text/html": [
       "<div>\n",
       "<style scoped>\n",
       "    .dataframe tbody tr th:only-of-type {\n",
       "        vertical-align: middle;\n",
       "    }\n",
       "\n",
       "    .dataframe tbody tr th {\n",
       "        vertical-align: top;\n",
       "    }\n",
       "\n",
       "    .dataframe thead th {\n",
       "        text-align: right;\n",
       "    }\n",
       "</style>\n",
       "<table border=\"1\" class=\"dataframe\">\n",
       "  <thead>\n",
       "    <tr style=\"text-align: right;\">\n",
       "      <th></th>\n",
       "      <th>Manufacturer</th>\n",
       "      <th>Model</th>\n",
       "      <th>Type</th>\n",
       "      <th>Min.Price</th>\n",
       "      <th>Price</th>\n",
       "      <th>Max.Price</th>\n",
       "      <th>MPG.city</th>\n",
       "      <th>MPG.highway</th>\n",
       "      <th>AirBags</th>\n",
       "      <th>DriveTrain</th>\n",
       "      <th>...</th>\n",
       "      <th>Passengers</th>\n",
       "      <th>Length</th>\n",
       "      <th>Wheelbase</th>\n",
       "      <th>Width</th>\n",
       "      <th>Turn.circle</th>\n",
       "      <th>Rear.seat.room</th>\n",
       "      <th>Luggage.room</th>\n",
       "      <th>Weight</th>\n",
       "      <th>Origin</th>\n",
       "      <th>Make</th>\n",
       "    </tr>\n",
       "  </thead>\n",
       "  <tbody>\n",
       "    <tr>\n",
       "      <th>0</th>\n",
       "      <td>Audi</td>\n",
       "      <td>90</td>\n",
       "      <td>Compact</td>\n",
       "      <td>25.9</td>\n",
       "      <td>29.1</td>\n",
       "      <td>32.3</td>\n",
       "      <td>20</td>\n",
       "      <td>26</td>\n",
       "      <td>Driver only</td>\n",
       "      <td>Front</td>\n",
       "      <td>...</td>\n",
       "      <td>5</td>\n",
       "      <td>180</td>\n",
       "      <td>102</td>\n",
       "      <td>67</td>\n",
       "      <td>37</td>\n",
       "      <td>28</td>\n",
       "      <td>14</td>\n",
       "      <td>3375</td>\n",
       "      <td>non-USA</td>\n",
       "      <td>Audi 90</td>\n",
       "    </tr>\n",
       "    <tr>\n",
       "      <th>1</th>\n",
       "      <td>Audi</td>\n",
       "      <td>100</td>\n",
       "      <td>Midsize</td>\n",
       "      <td>30.8</td>\n",
       "      <td>37.7</td>\n",
       "      <td>44.6</td>\n",
       "      <td>19</td>\n",
       "      <td>26</td>\n",
       "      <td>Driver &amp; Passenger</td>\n",
       "      <td>Front</td>\n",
       "      <td>...</td>\n",
       "      <td>6</td>\n",
       "      <td>193</td>\n",
       "      <td>106</td>\n",
       "      <td>70</td>\n",
       "      <td>37</td>\n",
       "      <td>31</td>\n",
       "      <td>17</td>\n",
       "      <td>3405</td>\n",
       "      <td>non-USA</td>\n",
       "      <td>Audi 100</td>\n",
       "    </tr>\n",
       "    <tr>\n",
       "      <th>2</th>\n",
       "      <td>Hyundai</td>\n",
       "      <td>Excel</td>\n",
       "      <td>Small</td>\n",
       "      <td>6.8</td>\n",
       "      <td>8.0</td>\n",
       "      <td>9.2</td>\n",
       "      <td>29</td>\n",
       "      <td>33</td>\n",
       "      <td>None</td>\n",
       "      <td>Front</td>\n",
       "      <td>...</td>\n",
       "      <td>5</td>\n",
       "      <td>168</td>\n",
       "      <td>94</td>\n",
       "      <td>63</td>\n",
       "      <td>35</td>\n",
       "      <td>26</td>\n",
       "      <td>11</td>\n",
       "      <td>2345</td>\n",
       "      <td>non-USA</td>\n",
       "      <td>Hyundai Excel</td>\n",
       "    </tr>\n",
       "    <tr>\n",
       "      <th>3</th>\n",
       "      <td>Hyundai</td>\n",
       "      <td>Elantra</td>\n",
       "      <td>Small</td>\n",
       "      <td>9.0</td>\n",
       "      <td>10.0</td>\n",
       "      <td>11.0</td>\n",
       "      <td>22</td>\n",
       "      <td>29</td>\n",
       "      <td>None</td>\n",
       "      <td>Front</td>\n",
       "      <td>...</td>\n",
       "      <td>5</td>\n",
       "      <td>172</td>\n",
       "      <td>98</td>\n",
       "      <td>66</td>\n",
       "      <td>36</td>\n",
       "      <td>28</td>\n",
       "      <td>12</td>\n",
       "      <td>2620</td>\n",
       "      <td>non-USA</td>\n",
       "      <td>Hyundai Elantra</td>\n",
       "    </tr>\n",
       "    <tr>\n",
       "      <th>4</th>\n",
       "      <td>Hyundai</td>\n",
       "      <td>Scoupe</td>\n",
       "      <td>Sporty</td>\n",
       "      <td>9.1</td>\n",
       "      <td>10.0</td>\n",
       "      <td>11.0</td>\n",
       "      <td>26</td>\n",
       "      <td>34</td>\n",
       "      <td>None</td>\n",
       "      <td>Front</td>\n",
       "      <td>...</td>\n",
       "      <td>4</td>\n",
       "      <td>166</td>\n",
       "      <td>94</td>\n",
       "      <td>64</td>\n",
       "      <td>34</td>\n",
       "      <td>23.5</td>\n",
       "      <td>9</td>\n",
       "      <td>2285</td>\n",
       "      <td>non-USA</td>\n",
       "      <td>Hyundai Scoupe</td>\n",
       "    </tr>\n",
       "    <tr>\n",
       "      <th>5</th>\n",
       "      <td>Hyundai</td>\n",
       "      <td>Sonata</td>\n",
       "      <td>Midsize</td>\n",
       "      <td>12.4</td>\n",
       "      <td>13.9</td>\n",
       "      <td>15.3</td>\n",
       "      <td>20</td>\n",
       "      <td>27</td>\n",
       "      <td>None</td>\n",
       "      <td>Front</td>\n",
       "      <td>...</td>\n",
       "      <td>5</td>\n",
       "      <td>184</td>\n",
       "      <td>104</td>\n",
       "      <td>69</td>\n",
       "      <td>41</td>\n",
       "      <td>31</td>\n",
       "      <td>14</td>\n",
       "      <td>2885</td>\n",
       "      <td>non-USA</td>\n",
       "      <td>Hyundai Sonata</td>\n",
       "    </tr>\n",
       "    <tr>\n",
       "      <th>6</th>\n",
       "      <td>Toyota</td>\n",
       "      <td>Tercel</td>\n",
       "      <td>Small</td>\n",
       "      <td>7.8</td>\n",
       "      <td>9.8</td>\n",
       "      <td>11.8</td>\n",
       "      <td>32</td>\n",
       "      <td>37</td>\n",
       "      <td>Driver only</td>\n",
       "      <td>Front</td>\n",
       "      <td>...</td>\n",
       "      <td>5</td>\n",
       "      <td>162</td>\n",
       "      <td>94</td>\n",
       "      <td>65</td>\n",
       "      <td>36</td>\n",
       "      <td>24</td>\n",
       "      <td>11</td>\n",
       "      <td>2055</td>\n",
       "      <td>non-USA</td>\n",
       "      <td>Toyota Tercel</td>\n",
       "    </tr>\n",
       "    <tr>\n",
       "      <th>7</th>\n",
       "      <td>Toyota</td>\n",
       "      <td>Celica</td>\n",
       "      <td>Sporty</td>\n",
       "      <td>14.2</td>\n",
       "      <td>18.4</td>\n",
       "      <td>22.6</td>\n",
       "      <td>25</td>\n",
       "      <td>32</td>\n",
       "      <td>Driver only</td>\n",
       "      <td>Front</td>\n",
       "      <td>...</td>\n",
       "      <td>4</td>\n",
       "      <td>174</td>\n",
       "      <td>99</td>\n",
       "      <td>69</td>\n",
       "      <td>39</td>\n",
       "      <td>23</td>\n",
       "      <td>13</td>\n",
       "      <td>2950</td>\n",
       "      <td>non-USA</td>\n",
       "      <td>Toyota Celica</td>\n",
       "    </tr>\n",
       "    <tr>\n",
       "      <th>8</th>\n",
       "      <td>Toyota</td>\n",
       "      <td>Camry</td>\n",
       "      <td>Midsize</td>\n",
       "      <td>15.2</td>\n",
       "      <td>18.2</td>\n",
       "      <td>21.2</td>\n",
       "      <td>22</td>\n",
       "      <td>29</td>\n",
       "      <td>Driver only</td>\n",
       "      <td>Front</td>\n",
       "      <td>...</td>\n",
       "      <td>5</td>\n",
       "      <td>188</td>\n",
       "      <td>103</td>\n",
       "      <td>70</td>\n",
       "      <td>38</td>\n",
       "      <td>28.5</td>\n",
       "      <td>15</td>\n",
       "      <td>3030</td>\n",
       "      <td>non-USA</td>\n",
       "      <td>Toyota Camry</td>\n",
       "    </tr>\n",
       "    <tr>\n",
       "      <th>9</th>\n",
       "      <td>Toyota</td>\n",
       "      <td>Previa</td>\n",
       "      <td>Van</td>\n",
       "      <td>18.9</td>\n",
       "      <td>22.7</td>\n",
       "      <td>26.6</td>\n",
       "      <td>18</td>\n",
       "      <td>22</td>\n",
       "      <td>Driver only</td>\n",
       "      <td>4WD</td>\n",
       "      <td>...</td>\n",
       "      <td>7</td>\n",
       "      <td>187</td>\n",
       "      <td>113</td>\n",
       "      <td>71</td>\n",
       "      <td>41</td>\n",
       "      <td>35</td>\n",
       "      <td>NA</td>\n",
       "      <td>3785</td>\n",
       "      <td>non-USA</td>\n",
       "      <td>Toyota Previa</td>\n",
       "    </tr>\n",
       "    <tr>\n",
       "      <th>10</th>\n",
       "      <td>Suzuki</td>\n",
       "      <td>Swift</td>\n",
       "      <td>Small</td>\n",
       "      <td>7.3</td>\n",
       "      <td>8.6</td>\n",
       "      <td>10.0</td>\n",
       "      <td>39</td>\n",
       "      <td>43</td>\n",
       "      <td>None</td>\n",
       "      <td>Front</td>\n",
       "      <td>...</td>\n",
       "      <td>4</td>\n",
       "      <td>161</td>\n",
       "      <td>93</td>\n",
       "      <td>63</td>\n",
       "      <td>34</td>\n",
       "      <td>27.5</td>\n",
       "      <td>10</td>\n",
       "      <td>1965</td>\n",
       "      <td>non-USA</td>\n",
       "      <td>Suzuki Swift</td>\n",
       "    </tr>\n",
       "  </tbody>\n",
       "</table>\n",
       "<p>11 rows × 27 columns</p>\n",
       "</div>"
      ],
      "text/plain": [
       "   Manufacturer    Model     Type  Min.Price  Price  Max.Price  MPG.city  \\\n",
       "0          Audi       90  Compact       25.9   29.1       32.3        20   \n",
       "1          Audi      100  Midsize       30.8   37.7       44.6        19   \n",
       "2       Hyundai    Excel    Small        6.8    8.0        9.2        29   \n",
       "3       Hyundai  Elantra    Small        9.0   10.0       11.0        22   \n",
       "4       Hyundai   Scoupe   Sporty        9.1   10.0       11.0        26   \n",
       "5       Hyundai   Sonata  Midsize       12.4   13.9       15.3        20   \n",
       "6        Toyota   Tercel    Small        7.8    9.8       11.8        32   \n",
       "7        Toyota   Celica   Sporty       14.2   18.4       22.6        25   \n",
       "8        Toyota    Camry  Midsize       15.2   18.2       21.2        22   \n",
       "9        Toyota   Previa      Van       18.9   22.7       26.6        18   \n",
       "10       Suzuki    Swift    Small        7.3    8.6       10.0        39   \n",
       "\n",
       "    MPG.highway             AirBags DriveTrain  ... Passengers  Length  \\\n",
       "0            26         Driver only      Front  ...          5     180   \n",
       "1            26  Driver & Passenger      Front  ...          6     193   \n",
       "2            33                None      Front  ...          5     168   \n",
       "3            29                None      Front  ...          5     172   \n",
       "4            34                None      Front  ...          4     166   \n",
       "5            27                None      Front  ...          5     184   \n",
       "6            37         Driver only      Front  ...          5     162   \n",
       "7            32         Driver only      Front  ...          4     174   \n",
       "8            29         Driver only      Front  ...          5     188   \n",
       "9            22         Driver only        4WD  ...          7     187   \n",
       "10           43                None      Front  ...          4     161   \n",
       "\n",
       "    Wheelbase  Width  Turn.circle Rear.seat.room  Luggage.room  Weight  \\\n",
       "0         102     67           37             28            14    3375   \n",
       "1         106     70           37             31            17    3405   \n",
       "2          94     63           35             26            11    2345   \n",
       "3          98     66           36             28            12    2620   \n",
       "4          94     64           34           23.5             9    2285   \n",
       "5         104     69           41             31            14    2885   \n",
       "6          94     65           36             24            11    2055   \n",
       "7          99     69           39             23            13    2950   \n",
       "8         103     70           38           28.5            15    3030   \n",
       "9         113     71           41             35            NA    3785   \n",
       "10         93     63           34           27.5            10    1965   \n",
       "\n",
       "     Origin             Make  \n",
       "0   non-USA          Audi 90  \n",
       "1   non-USA         Audi 100  \n",
       "2   non-USA    Hyundai Excel  \n",
       "3   non-USA  Hyundai Elantra  \n",
       "4   non-USA   Hyundai Scoupe  \n",
       "5   non-USA   Hyundai Sonata  \n",
       "6   non-USA    Toyota Tercel  \n",
       "7   non-USA    Toyota Celica  \n",
       "8   non-USA     Toyota Camry  \n",
       "9   non-USA    Toyota Previa  \n",
       "10  non-USA     Suzuki Swift  \n",
       "\n",
       "[11 rows x 27 columns]"
      ]
     },
     "execution_count": 41,
     "metadata": {},
     "output_type": "execute_result"
    }
   ],
   "source": [
    "#Separating the data frame and creating a new dataframe with the desired car brands.\n",
    "\n",
    "audi=car_data[car_data['Manufacturer']==\"Audi\"]\n",
    "hyundai=car_data[car_data['Manufacturer']==\"Hyundai\"]\n",
    "toyota=car_data[car_data['Manufacturer']==\"Toyota\"]\n",
    "suzuki=car_data[car_data['Manufacturer']==\"Suzuki\"]\n",
    "\n",
    "audi_hyundai_toyota_suzuki=pd.concat([audi,hyundai,toyota,suzuki],ignore_index=True)\n",
    "audi_hyundai_toyota_suzuki\n"
   ]
  },
  {
   "attachments": {},
   "cell_type": "markdown",
   "metadata": {},
   "source": [
    "### 1. Boxplot"
   ]
  },
  {
   "cell_type": "code",
   "execution_count": 42,
   "metadata": {},
   "outputs": [
    {
     "data": {
      "text/plain": [
       "<Axes: xlabel='Manufacturer', ylabel='Rev.per.mile'>"
      ]
     },
     "execution_count": 42,
     "metadata": {},
     "output_type": "execute_result"
    },
    {
     "data": {
      "image/png": "[encoded data removed]",
      "text/plain": [
       "<Figure size 640x480 with 1 Axes>"
      ]
     },
     "metadata": {},
     "output_type": "display_data"
    }
   ],
   "source": [
    "# Setting up a data frame for different car manufacturers\n",
    "\n",
    "sns.boxplot(data=audi_hyundai_toyota_suzuki, x=\"Manufacturer\", y=\"Rev.per.mile\", orient='v')"
   ]
  },
  {
   "cell_type": "code",
   "execution_count": null,
   "metadata": {},
   "outputs": [
    {
     "data": {
      "text/plain": [
       "array(['Acura', 'Audi', 'BMW', 'Buick', 'Cadillac', 'Chevrolet',\n",
       "       'Chrylser', 'Chrysler', 'Dodge', 'Eagle', 'Ford', 'Geo', 'Honda',\n",
       "       'Hyundai', 'Infiniti', 'Lexus', 'Lincoln', 'Mazda',\n",
       "       'Mercedes-Benz', 'Mercury', 'Mitsubishi', 'Nissan', 'Oldsmobile',\n",
       "       'Plymouth', 'Pontiac', 'Saab', 'Saturn', 'Subaru', 'Suzuki',\n",
       "       'Toyota', 'Volkswagen', 'Volvo'], dtype=object)"
      ]
     },
     "execution_count": 64,
     "metadata": {},
     "output_type": "execute_result"
    }
   ],
   "source": [
    "# Prints out the unique car brands\n",
    "car_data[\"Manufacturer\"].unique()\n",
    "\n",
    "# There are 32 unique car brands\n",
    "# car_data[\"Manufacturer\"].nunique()"
   ]
  },
  {
   "attachments": {},
   "cell_type": "markdown",
   "metadata": {},
   "source": [
    "**Boxplot question:**  \n",
    "Which of these manufacturers has the car with the highest revs per mile?\n"
   ]
  },
  {
   "attachments": {},
   "cell_type": "markdown",
   "metadata": {},
   "source": [
    "**Boxplot answer:**\n",
    "Suzuki, however there was only 1 suzuki car model in the dataset so it may not be representative.\n"
   ]
  },
  {
   "attachments": {},
   "cell_type": "markdown",
   "metadata": {},
   "source": [
    "### 2. Histogram"
   ]
  },
  {
   "cell_type": "code",
   "execution_count": null,
   "metadata": {},
   "outputs": [
    {
     "data": {
      "text/plain": [
       "<Axes: xlabel='Type', ylabel='Average MPG'>"
      ]
     },
     "execution_count": 5,
     "metadata": {},
     "output_type": "execute_result"
    },
    {
     "data": {
      "image/png": "[encoded data removed]",
      "text/plain": [
       "<Figure size 640x480 with 1 Axes>"
      ]
     },
     "metadata": {},
     "output_type": "display_data"
    }
   ],
   "source": [
    "# Histogram of MPG\n",
    "\n",
    "#Grouping data by 'Type'\n",
    "group_by_type = car_data.groupby(by=['Type'])\n",
    "\n",
    "#Getting the average value for each type across all columns\n",
    "car_data_avg = round(group_by_type.mean(numeric_only=True), 0) \n",
    "\n",
    "features_to_plot=pd.DataFrame({'MPG.Highway':car_data_avg['MPG.highway'],\n",
    "                               'MPG.City':car_data_avg['MPG.city']})\n",
    "\n",
    "features_to_plot.plot(kind='bar', ylabel=\"Average MPG\")\n"
   ]
  },
  {
   "attachments": {},
   "cell_type": "markdown",
   "metadata": {},
   "source": [
    "**Histogram question:**  \n",
    "Is it generally more fuel efficient to drive in the city or on the highway?"
   ]
  },
  {
   "attachments": {},
   "cell_type": "markdown",
   "metadata": {},
   "source": [
    "**Histogram answer:**\n",
    "It is generally more efficient to drive on the highway for all vehicle types"
   ]
  },
  {
   "attachments": {},
   "cell_type": "markdown",
   "metadata": {},
   "source": [
    "### 3. Lineplot"
   ]
  },
  {
   "cell_type": "code",
   "execution_count": null,
   "metadata": {},
   "outputs": [
    {
     "name": "stderr",
     "output_type": "stream",
     "text": [
      "c:\\Users\\helde\\.conda\\envs\\Data_Science\\Lib\\site-packages\\seaborn\\_oldcore.py:1119: FutureWarning: use_inf_as_na option is deprecated and will be removed in a future version. Convert inf values to NaN before operating instead.\n",
      "  with pd.option_context('mode.use_inf_as_na', True):\n",
      "c:\\Users\\helde\\.conda\\envs\\Data_Science\\Lib\\site-packages\\seaborn\\_oldcore.py:1119: FutureWarning: use_inf_as_na option is deprecated and will be removed in a future version. Convert inf values to NaN before operating instead.\n",
      "  with pd.option_context('mode.use_inf_as_na', True):\n"
     ]
    },
    {
     "data": {
      "text/plain": [
       "<Axes: xlabel='Wheelbase', ylabel='Turn.circle'>"
      ]
     },
     "execution_count": 6,
     "metadata": {},
     "output_type": "execute_result"
    },
    {
     "data": {
      "image/png": "[encoded data removed]",
      "text/plain": [
       "<Figure size 640x480 with 1 Axes>"
      ]
     },
     "metadata": {},
     "output_type": "display_data"
    }
   ],
   "source": [
    "# Lineplot (Wheelbase vs turning circle)\n",
    "\n",
    "#For this I will use a line plot to explore the relationship between the 2 parameters.\n",
    "x=car_data['Wheelbase']\n",
    "y=car_data['Turn.circle']\n",
    "\n",
    "# plt.plot(x,y,label=\"Relationship between wheelbase and turning circle\")\n",
    "# plt.title(\"Relationship between wheelbase and turning circle\")\n",
    "# plt.xlabel(\"Wheelbase\")\n",
    "# plt.ylabel(\"Turning Circle\")\n",
    "\n",
    "sns.lineplot(data=car_data, x=\"Wheelbase\", y=\"Turn.circle\")\n",
    "\n"
   ]
  },
  {
   "attachments": {},
   "cell_type": "markdown",
   "metadata": {},
   "source": [
    "**Lineplot question:**  \n",
    "What is this relationship? What happens when the wheelbase gets larger?\n"
   ]
  },
  {
   "attachments": {},
   "cell_type": "markdown",
   "metadata": {},
   "source": [
    "**Lineplot answer:**  \n",
    "The larger the wheelbase the larger the turning circle.\n"
   ]
  },
  {
   "attachments": {},
   "cell_type": "markdown",
   "metadata": {},
   "source": [
    "### 4. Barplot"
   ]
  },
  {
   "cell_type": "code",
   "execution_count": null,
   "metadata": {},
   "outputs": [
    {
     "data": {
      "text/plain": [
       "<Axes: xlabel='Type', ylabel='Horse Power'>"
      ]
     },
     "execution_count": 7,
     "metadata": {},
     "output_type": "execute_result"
    },
    {
     "data": {
      "image/png": "[encoded data removed]",
      "text/plain": [
       "<Figure size 640x480 with 1 Axes>"
      ]
     },
     "metadata": {},
     "output_type": "display_data"
    }
   ],
   "source": [
    "# Barplot for mean horsepower\n",
    "\n",
    "horsepower_to_plot = pd.DataFrame({'Horse Power': car_data_avg['Horsepower']})\n",
    "\n",
    "horsepower_to_plot.plot(kind='bar',ylabel='Horse Power')\n"
   ]
  },
  {
   "attachments": {},
   "cell_type": "markdown",
   "metadata": {},
   "source": [
    "**Barplot question:**  \n",
    "Does a larger car mean more horsepower?\n",
    "\n",
    "\n"
   ]
  },
  {
   "attachments": {},
   "cell_type": "markdown",
   "metadata": {},
   "source": [
    "**Barplot answer:**\n",
    "In general, the larger the car the more horsepower it has."
   ]
  }
 ],
 "metadata": {
  "kernelspec": {
   "display_name": "Data_Science",
   "language": "python",
   "name": "python3"
  },
  "language_info": {
   "codemirror_mode": {
    "name": "ipython",
    "version": 3
   },
   "file_extension": ".py",
   "mimetype": "text/x-python",
   "name": "python",
   "nbconvert_exporter": "python",
   "pygments_lexer": "ipython3",
   "version": "3.11.8"
  },
  "orig_nbformat": 4
 },
 "nbformat": 4,
 "nbformat_minor": 2
}
